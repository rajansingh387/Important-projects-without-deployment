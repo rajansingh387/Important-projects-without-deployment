{
  "nbformat": 4,
  "nbformat_minor": 0,
  "metadata": {
    "colab": {
      "provenance": [],
      "authorship_tag": "ABX9TyM8+EhTYNjAtGVnsklhYGba",
      "include_colab_link": true
    },
    "kernelspec": {
      "name": "python3",
      "display_name": "Python 3"
    },
    "language_info": {
      "name": "python"
    }
  },
  "cells": [
    {
      "cell_type": "markdown",
      "metadata": {
        "id": "view-in-github",
        "colab_type": "text"
      },
      "source": [
        "<a href=\"https://colab.research.google.com/github/rajansingh387/Important-projects-without-deployment/blob/main/Natural_Language_Processing_(NLP)_a_Next_Word_Prediction_Model.ipynb\" target=\"_parent\"><img src=\"https://colab.research.google.com/assets/colab-badge.svg\" alt=\"Open In Colab\"/></a>"
      ]
    },
    {
      "cell_type": "code",
      "execution_count": 1,
      "metadata": {
        "id": "G2Fx-tI4cxmS"
      },
      "outputs": [],
      "source": [
        "faqs = \"\"\"As the minutes tick by, the soft hum of the room's ambience becomes a melody unto itself,\n",
        "a gentle lullaby that soothes the weary soul. Each breath drawn in and released carries with it a sense of renewal,\n",
        "as if with every exhale, the burdens of the day are lifted, if only for a fleeting moment.\n",
        "\n",
        "In the corner, a book lies open, its pages filled with tales of distant lands and forgotten adventures. The characters within its\n",
        "worn covers beckon with promises of escapism, inviting the reader to lose themselves in worlds far beyond their own.\n",
        "\n",
        "The sunlight shifts imperceptibly, casting ever-changing patterns of light and shadow across the floor. Dust motes dance in its golden rays,\n",
        "swirling like tiny galaxies in a cosmic ballet.\n",
        "\n",
        "Outside, the world continues its ceaseless march, but within these walls, time holds its breath. Here, in this pocket of stillness,\n",
        " there is a sense of being both anchored and adrift—a paradoxical sensation that speaks to the essence of existence itself.\n",
        "\n",
        "In the quiet, there is space for reflection, for introspection, for the gentle unraveling of the tangled threads of thought.\n",
        " It is a sanctuary for the mind, a refuge from the cacophony of modern life.\n",
        "\n",
        "And so, in this sanctuary of silence, let us linger a while longer,\n",
        "basking in the tranquility that surrounds us. For in these moments of stillness,\n",
        " we find not only respite, but also the seeds of inspiration, waiting patiently to bloom.\n",
        " In the heart of a bustling city, where the rhythm of life beats with an unrelenting pulse,\n",
        " there exists a place untouched by the chaos—a hidden alcove of tranquility nestled amidst the cacophony of urban existence. This haven of peace is found within the walls of an old bookstore, its weathered facade a testament to the passage of time and the enduring allure of literature.\n",
        "\n",
        "Stepping through the creaking door,\n",
        "one is greeted by the scent of aged paper and leather bindings—a fragrance that evokes memories of bygone eras and faraway lands.\n",
        " Sunlight streams through dusty windows, casting warm pools of illumination upon rows of bookshelves that stretch towards the ceiling, each shelf a treasure trove of knowledge and imagination.\n",
        "\n",
        "Here, amidst the hushed whispers of pages turning and the occasional rustle of a fellow patron,\n",
        " time seems to stand still.\n",
        " The outside world fades into insignificance as visitors lose themselves in the vast expanse of literature that surrounds them.\n",
        "\n",
        "In one corner, a group of students engages in animated discussion, their voices rising and falling as they debate the merits of classic novels.\n",
        " Nearby, a solitary figure sits in a plush armchair, lost in the pages of a well-loved tome, oblivious to the passage of time.\n",
        "\n",
        "The bookstore itself is a labyrinth of discovery, with nooks and crannies waiting to be explored.\n",
        " Every turn reveals new treasures—forgotten classics, obscure volumes, and hidden gems waiting to be unearthed.\n",
        "  Each book holds within its pages the promise of adventure, enlightenment, or simply a momentary escape from the trials of everyday life.\n",
        "\n",
        "As the day wanes and the sun dips below the horizon,\n",
        " the bookstore takes on a magical quality, its dimly lit aisles imbued with an otherworldly glow.\n",
        "  The air grows thick with anticipation, as if the very walls of the shop are alive with the stories they contain.\n",
        "\n",
        "And so, as night falls and the city outside grows quiet,\n",
        "the bookstore remains a beacon of light and warmth in a world fraught with uncertainty.\n",
        " For within its walls,\n",
        " there exists a timeless sanctuary—a place where the power of words transcends the boundaries of time and space,\n",
        "  and where the imagination is free to roam unfettered.\n",
        "\"\"\""
      ]
    },
    {
      "cell_type": "code",
      "source": [
        "import tensorflow as tf"
      ],
      "metadata": {
        "id": "5foY0VUwdO_w"
      },
      "execution_count": 2,
      "outputs": []
    },
    {
      "cell_type": "code",
      "source": [
        "from tensorflow.keras.preprocessing.text import Tokenizer"
      ],
      "metadata": {
        "id": "JP9o-CCrdQos"
      },
      "execution_count": 3,
      "outputs": []
    },
    {
      "cell_type": "code",
      "source": [
        "tokenizer= Tokenizer()"
      ],
      "metadata": {
        "id": "Ivcp7KdKdcQM"
      },
      "execution_count": 4,
      "outputs": []
    },
    {
      "cell_type": "code",
      "source": [
        "tokenizer.fit_on_texts([faqs])"
      ],
      "metadata": {
        "id": "Q_dVpwnXdwud"
      },
      "execution_count": 5,
      "outputs": []
    },
    {
      "cell_type": "code",
      "source": [
        "len(tokenizer.word_index)"
      ],
      "metadata": {
        "colab": {
          "base_uri": "https://localhost:8080/"
        },
        "id": "JdWJOiaVd3_2",
        "outputId": "d8add292-3f23-4264-c397-86cf12078484"
      },
      "execution_count": 6,
      "outputs": [
        {
          "output_type": "execute_result",
          "data": {
            "text/plain": [
              "324"
            ]
          },
          "metadata": {},
          "execution_count": 6
        }
      ]
    },
    {
      "cell_type": "code",
      "source": [
        "tokenizer.word_index"
      ],
      "metadata": {
        "id": "jwooyu53d4pN"
      },
      "execution_count": null,
      "outputs": []
    },
    {
      "cell_type": "code",
      "source": [
        "input_sequences = []\n",
        "for sentence in faqs.split('.'):\n",
        "  tokenized_sentence= tokenizer.texts_to_sequences([sentence])[0]\n",
        "\n",
        "  for i in range(1,len(tokenized_sentence)):\n",
        "    input_sequences.append(tokenized_sentence[:i+1])"
      ],
      "metadata": {
        "id": "76fjKK75eAXt"
      },
      "execution_count": 8,
      "outputs": []
    },
    {
      "cell_type": "code",
      "source": [
        "input_sequences"
      ],
      "metadata": {
        "id": "Aw8UnrwWfmlD"
      },
      "execution_count": null,
      "outputs": []
    },
    {
      "cell_type": "code",
      "source": [
        "max_len =max([len(x) for x in input_sequences])"
      ],
      "metadata": {
        "id": "6JcZfIkgif90"
      },
      "execution_count": 10,
      "outputs": []
    },
    {
      "cell_type": "code",
      "source": [
        "max_len"
      ],
      "metadata": {
        "colab": {
          "base_uri": "https://localhost:8080/"
        },
        "id": "5i-QPqKoo21j",
        "outputId": "58993704-fe32-4578-adaf-aab78b1913e7"
      },
      "execution_count": 11,
      "outputs": [
        {
          "output_type": "execute_result",
          "data": {
            "text/plain": [
              "36"
            ]
          },
          "metadata": {},
          "execution_count": 11
        }
      ]
    },
    {
      "cell_type": "code",
      "source": [
        "from tensorflow.keras.preprocessing.sequence import pad_sequences\n"
      ],
      "metadata": {
        "id": "SoTjoI08ilUL"
      },
      "execution_count": 12,
      "outputs": []
    },
    {
      "cell_type": "code",
      "source": [
        "padded_input_sequences= pad_sequences(input_sequences,maxlen= max_len,padding='pre')"
      ],
      "metadata": {
        "id": "RRm84jRyi2y9"
      },
      "execution_count": 13,
      "outputs": []
    },
    {
      "cell_type": "code",
      "source": [
        "padded_input_sequences"
      ],
      "metadata": {
        "colab": {
          "base_uri": "https://localhost:8080/"
        },
        "id": "SXgm02uzjKad",
        "outputId": "a76313b8-196d-438e-821a-6ac23d31e1d5"
      },
      "execution_count": 14,
      "outputs": [
        {
          "output_type": "execute_result",
          "data": {
            "text/plain": [
              "array([[  0,   0,   0, ...,   0,   9,   1],\n",
              "       [  0,   0,   0, ...,   9,   1,  75],\n",
              "       [  0,   0,   0, ...,   1,  75,  76],\n",
              "       ...,\n",
              "       [  0,   0,   0, ...,  11, 322,   8],\n",
              "       [  0,   0,   0, ..., 322,   8, 323],\n",
              "       [  0,   0,   0, ...,   8, 323, 324]], dtype=int32)"
            ]
          },
          "metadata": {},
          "execution_count": 14
        }
      ]
    },
    {
      "cell_type": "code",
      "source": [
        "x= padded_input_sequences[:,:-1]"
      ],
      "metadata": {
        "id": "cezZ-nBTjSTj"
      },
      "execution_count": 15,
      "outputs": []
    },
    {
      "cell_type": "code",
      "source": [
        "y= padded_input_sequences[:,-1]"
      ],
      "metadata": {
        "id": "N8VYe6t-jcWj"
      },
      "execution_count": 16,
      "outputs": []
    },
    {
      "cell_type": "code",
      "source": [
        "print(x.shape)"
      ],
      "metadata": {
        "colab": {
          "base_uri": "https://localhost:8080/"
        },
        "id": "1ZOEydcVjlMk",
        "outputId": "ecbbefba-531c-4802-8e3c-94899e01be77"
      },
      "execution_count": 17,
      "outputs": [
        {
          "output_type": "stream",
          "name": "stdout",
          "text": [
            "(583, 35)\n"
          ]
        }
      ]
    },
    {
      "cell_type": "code",
      "source": [
        "print(y.shape)"
      ],
      "metadata": {
        "colab": {
          "base_uri": "https://localhost:8080/"
        },
        "id": "U2VJkWBljqVS",
        "outputId": "cd649982-97c6-4a0e-e2d4-841eee3bb968"
      },
      "execution_count": 18,
      "outputs": [
        {
          "output_type": "stream",
          "name": "stdout",
          "text": [
            "(583,)\n"
          ]
        }
      ]
    },
    {
      "cell_type": "code",
      "source": [
        "from tensorflow.keras.utils import to_categorical"
      ],
      "metadata": {
        "id": "FaeWiREKjr6y"
      },
      "execution_count": 19,
      "outputs": []
    },
    {
      "cell_type": "code",
      "source": [
        "y= to_categorical(y ,num_classes=325)"
      ],
      "metadata": {
        "id": "qn449auVm_zi"
      },
      "execution_count": 20,
      "outputs": []
    },
    {
      "cell_type": "code",
      "source": [
        "y.shape"
      ],
      "metadata": {
        "colab": {
          "base_uri": "https://localhost:8080/"
        },
        "id": "mXfavXeSnora",
        "outputId": "e297ce25-5ff6-4441-d07a-679debbf4c58"
      },
      "execution_count": 21,
      "outputs": [
        {
          "output_type": "execute_result",
          "data": {
            "text/plain": [
              "(583, 325)"
            ]
          },
          "metadata": {},
          "execution_count": 21
        }
      ]
    },
    {
      "cell_type": "code",
      "source": [
        "from tensorflow.keras import Sequential"
      ],
      "metadata": {
        "id": "KuPM47VLnrIq"
      },
      "execution_count": 22,
      "outputs": []
    },
    {
      "cell_type": "code",
      "source": [
        "from tensorflow.keras.layers import Embedding,LSTM,Dense"
      ],
      "metadata": {
        "id": "swb3bRvUnxyJ"
      },
      "execution_count": 23,
      "outputs": []
    },
    {
      "cell_type": "code",
      "source": [
        "from re import S\n",
        "model= Sequential()"
      ],
      "metadata": {
        "id": "7iMpJAclob5x"
      },
      "execution_count": 24,
      "outputs": []
    },
    {
      "cell_type": "code",
      "source": [
        "len(x[0])"
      ],
      "metadata": {
        "colab": {
          "base_uri": "https://localhost:8080/"
        },
        "id": "TmisMvMEqoq0",
        "outputId": "308d5d88-1709-4443-cc2b-5013d003c4a9"
      },
      "execution_count": 25,
      "outputs": [
        {
          "output_type": "execute_result",
          "data": {
            "text/plain": [
              "35"
            ]
          },
          "metadata": {},
          "execution_count": 25
        }
      ]
    },
    {
      "cell_type": "code",
      "source": [
        "model.add(Embedding(325, 100, input_length=35))  # Adjusted input_length\n",
        "\n",
        "model.add(LSTM(150))\n",
        "model.add(Dense(325, activation='softmax'))"
      ],
      "metadata": {
        "id": "4ngp31Zaohzp"
      },
      "execution_count": 26,
      "outputs": []
    },
    {
      "cell_type": "code",
      "source": [
        "model.compile(loss='categorical_crossentropy', optimizer='adam',metrics=['accuracy'])"
      ],
      "metadata": {
        "id": "2LHIGn24pQw8"
      },
      "execution_count": 27,
      "outputs": []
    },
    {
      "cell_type": "code",
      "source": [
        "model.summary()"
      ],
      "metadata": {
        "colab": {
          "base_uri": "https://localhost:8080/"
        },
        "id": "Zh5HtmBfpRvq",
        "outputId": "822e1895-03d0-48ec-e776-2d03bf64411d"
      },
      "execution_count": 28,
      "outputs": [
        {
          "output_type": "stream",
          "name": "stdout",
          "text": [
            "Model: \"sequential\"\n",
            "_________________________________________________________________\n",
            " Layer (type)                Output Shape              Param #   \n",
            "=================================================================\n",
            " embedding (Embedding)       (None, 35, 100)           32500     \n",
            "                                                                 \n",
            " lstm (LSTM)                 (None, 150)               150600    \n",
            "                                                                 \n",
            " dense (Dense)               (None, 325)               49075     \n",
            "                                                                 \n",
            "=================================================================\n",
            "Total params: 232175 (906.93 KB)\n",
            "Trainable params: 232175 (906.93 KB)\n",
            "Non-trainable params: 0 (0.00 Byte)\n",
            "_________________________________________________________________\n"
          ]
        }
      ]
    },
    {
      "cell_type": "code",
      "source": [
        "model.fit(x,y,epochs=100)"
      ],
      "metadata": {
        "id": "X6QRDaxYpUCJ"
      },
      "execution_count": null,
      "outputs": []
    },
    {
      "cell_type": "code",
      "source": [
        "import time\n",
        "text= 'magical'\n",
        "token_text= tokenizer.texts_to_sequences([text])[0]\n",
        "print(token_text)\n",
        "padded= pad_sequences([token_text],maxlen=35,padding='pre')\n",
        "print(padded)"
      ],
      "metadata": {
        "colab": {
          "base_uri": "https://localhost:8080/"
        },
        "id": "NfIuUOFcQOxY",
        "outputId": "a3f72018-a20d-48af-9d87-b4eaf2e6a572"
      },
      "execution_count": 38,
      "outputs": [
        {
          "output_type": "stream",
          "name": "stdout",
          "text": [
            "[293]\n",
            "[[  0   0   0   0   0   0   0   0   0   0   0   0   0   0   0   0   0   0\n",
            "    0   0   0   0   0   0   0   0   0   0   0   0   0   0   0   0 293]]\n"
          ]
        }
      ]
    },
    {
      "cell_type": "code",
      "source": [
        "model.predict(padded)"
      ],
      "metadata": {
        "id": "5ashMwnZQO0q"
      },
      "execution_count": null,
      "outputs": []
    },
    {
      "cell_type": "code",
      "source": [
        "import numpy as np\n",
        "np.argmax(model.predict(padded))"
      ],
      "metadata": {
        "colab": {
          "base_uri": "https://localhost:8080/"
        },
        "id": "bpld4IdDQO33",
        "outputId": "eea22ef9-4a56-424d-a80e-423c96031f35"
      },
      "execution_count": 41,
      "outputs": [
        {
          "output_type": "stream",
          "name": "stdout",
          "text": [
            "1/1 [==============================] - 0s 26ms/step\n"
          ]
        },
        {
          "output_type": "execute_result",
          "data": {
            "text/plain": [
              "13"
            ]
          },
          "metadata": {},
          "execution_count": 41
        }
      ]
    },
    {
      "cell_type": "code",
      "source": [
        "for word,index in tokenizer.word_index.items():\n",
        "  if index==13:\n",
        "    print(word)"
      ],
      "metadata": {
        "colab": {
          "base_uri": "https://localhost:8080/"
        },
        "id": "ljEYoHL1T1SN",
        "outputId": "c39a5e6b-4b5a-4d13-e0b4-8545bf0ad34d"
      },
      "execution_count": 43,
      "outputs": [
        {
          "output_type": "stream",
          "name": "stdout",
          "text": [
            "within\n"
          ]
        }
      ]
    },
    {
      "cell_type": "code",
      "source": [
        "text= 'i am magical i can see you through'\n",
        "for i in range(15):\n",
        "    # tokenize\n",
        "  token_text = tokenizer.texts_to_sequences([text])[0]\n",
        "  # padding\n",
        "  padded_token_text = pad_sequences([token_text], maxlen=56, padding='pre')\n",
        "  # predict\n",
        "  pos = np.argmax(model.predict(padded_token_text))\n",
        "\n",
        "  for word,index in tokenizer.word_index.items():\n",
        "    if index == pos:\n",
        "      text = text + \" \" + word\n",
        "      print(text)\n",
        "      time.sleep(2)"
      ],
      "metadata": {
        "colab": {
          "base_uri": "https://localhost:8080/"
        },
        "id": "Fso3qXfYUG5N",
        "outputId": "6ef3baac-7e8d-4a2c-acb9-5d3f5b998408"
      },
      "execution_count": 51,
      "outputs": [
        {
          "output_type": "stream",
          "name": "stdout",
          "text": [
            "1/1 [==============================] - 0s 56ms/step\n",
            "i am magical i can see you through the\n",
            "1/1 [==============================] - 0s 58ms/step\n",
            "i am magical i can see you through the creaking\n",
            "1/1 [==============================] - 0s 29ms/step\n",
            "i am magical i can see you through the creaking door\n",
            "1/1 [==============================] - 0s 29ms/step\n",
            "i am magical i can see you through the creaking door one\n",
            "1/1 [==============================] - 0s 29ms/step\n",
            "i am magical i can see you through the creaking door one is\n",
            "1/1 [==============================] - 0s 31ms/step\n",
            "i am magical i can see you through the creaking door one is greeted\n",
            "1/1 [==============================] - 0s 44ms/step\n",
            "i am magical i can see you through the creaking door one is greeted by\n",
            "1/1 [==============================] - 0s 30ms/step\n",
            "i am magical i can see you through the creaking door one is greeted by the\n",
            "1/1 [==============================] - 0s 30ms/step\n",
            "i am magical i can see you through the creaking door one is greeted by the scent\n",
            "1/1 [==============================] - 0s 33ms/step\n",
            "i am magical i can see you through the creaking door one is greeted by the scent of\n",
            "1/1 [==============================] - 0s 46ms/step\n",
            "i am magical i can see you through the creaking door one is greeted by the scent of aged\n",
            "1/1 [==============================] - 0s 29ms/step\n",
            "i am magical i can see you through the creaking door one is greeted by the scent of aged paper\n",
            "1/1 [==============================] - 0s 55ms/step\n",
            "i am magical i can see you through the creaking door one is greeted by the scent of aged paper and\n",
            "1/1 [==============================] - 0s 31ms/step\n",
            "i am magical i can see you through the creaking door one is greeted by the scent of aged paper and leather\n",
            "1/1 [==============================] - 0s 30ms/step\n",
            "i am magical i can see you through the creaking door one is greeted by the scent of aged paper and leather bindings—a\n"
          ]
        }
      ]
    },
    {
      "cell_type": "code",
      "source": [],
      "metadata": {
        "id": "jOMkLnaYVDMO"
      },
      "execution_count": null,
      "outputs": []
    }
  ]
}